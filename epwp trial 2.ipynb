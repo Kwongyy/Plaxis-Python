{
 "cells": [
  {
   "cell_type": "markdown",
   "metadata": {},
   "source": [
    "# Automate the degree of consolidation using Python\n"
   ]
  },
  {
   "cell_type": "code",
   "execution_count": 1,
   "metadata": {},
   "outputs": [],
   "source": [
    "#load in the path to the Plaxis \n",
    "import imp\n",
    "plaxis_path = r'C:\\Program Files (x86)\\Plaxis\\PLAXIS 2D 2016'\n",
    "found_module = imp.find_module('plxscripting', [plaxis_path])\n",
    "plxscripting = imp.load_module('plxscripting', *found_module)\n",
    "from plxscripting.easy import *\n",
    "from scipy.interpolate import griddata\n",
    "import os\n",
    "import numpy as np\n",
    "import pandas as pd\n",
    "import matplotlib.pyplot as plt"
   ]
  },
  {
   "cell_type": "code",
   "execution_count": 2,
   "metadata": {},
   "outputs": [
    {
     "data": {
      "text/plain": [
       "'OK'"
      ]
     },
     "execution_count": 2,
     "metadata": {},
     "output_type": "execute_result"
    }
   ],
   "source": [
    "port = 10001\n",
    "s_o, g_o = new_server('localhost', port)\n",
    "s_o.open(r'C:\\Users\\jeffrey.kwong\\Desktop\\Python\\SC model\\MCC_AxSC_UPMW_r02.p2dx')"
   ]
  },
  {
   "cell_type": "code",
   "execution_count": 3,
   "metadata": {},
   "outputs": [],
   "source": [
    "def get_avg_epwp(Phase,m,n,xbound,ybound):\n",
    "    '''\n",
    "    This function returns the average excess pore water pressure at a certain phase\n",
    "    Parameter:\n",
    "    phase_df: Phase of interested, example 'g_o.Phase_6'\n",
    "    m: number of discretisation in the x-direction\n",
    "    n: number of discretisation in the y-direction\n",
    "    xbound: x boundary of the soil wanted to be considered\n",
    "    ybound: y boundary of the soil wanted to be considered\n",
    "    '''\n",
    "\n",
    "    x = np.array(g_o.getresults(Phase, g_o.ResultTypes.Soil.X, \"node\"))\n",
    "    y = np.array(g_o.getresults(Phase, g_o.ResultTypes.Soil.Y, \"node\"))\n",
    "    epwp =np.array(g_o.getresults(Phase, g_o.ResultTypes.Soil.PExcess, \"node\"))\n",
    "\n",
    "    ux = np.array(g_o.getresults(Phase, g_o.ResultTypes.Soil.Ux, \"node\"))\n",
    "    uy = np.array(g_o.getresults(Phase, g_o.ResultTypes.Soil.Ux, \"node\"))\n",
    "\n",
    "    df = pd.DataFrame(dict(x=[],y=[],epwp=[]))\n",
    "    df.x = x-ux; df.y = y-uy; df.epwp = epwp\n",
    "    \n",
    "    \n",
    "    \n",
    "    dfMDx=[]\n",
    "    dfMDy=[]\n",
    "    dfMDepwp=[]\n",
    "\n",
    "    for i in range (len(df.x)):\n",
    "            if  df.x[i] >= xbound and df.y[i] <= ybound:\n",
    "                dfMDx.append(df.x[i])\n",
    "                dfMDy.append(df.y[i])\n",
    "                dfMDepwp.append(df.epwp[i])\n",
    "            \n",
    "    df_MD = pd.DataFrame(dict(x=[],y=[],epwp=[]))\n",
    "    df_MD.x = dfMDx\n",
    "    df_MD.y = dfMDy\n",
    "    df_MD.epwp = dfMDepwp\n",
    "\n",
    "\n",
    "    \n",
    "    R = max(df_MD.x)-min(df_MD.x)\n",
    "    change_r = R/n\n",
    "    Z = max(df_MD.y)-min(df_MD.y)\n",
    "    change_z = Z/m\n",
    "    \n",
    "    area = change_r * change_z\n",
    "    \n",
    "    newx = np.arange(min(df_MD.x)+change_r/2,max(df_MD.x)+change_r+change_r/2,change_r)\n",
    "    newy = np.arange(min(df_MD.y)+change_z/2,max(df_MD.y)+change_z+change_z/2,change_z)\n",
    "    grid_x, grid_y = np.meshgrid(newx,newy)\n",
    "    coord = (df_MD.x,df_MD.y)\n",
    "#import pdb; pdb.set_trace()\n",
    "    zi = griddata(coord,df_MD.epwp,(grid_x.flatten(),grid_y.flatten()),method='linear')\n",
    "    \n",
    "    zi_r = np.array(grid_x.flatten())*np.array(zi)\n",
    "    \n",
    "    n_nans = len(np.where(np.isnan(zi)))\n",
    "    H=max(df_MD.y)-min(df_MD.y)\n",
    "    total_area = np.absolute((max(df_MD.x)*max(df_MD.x)-min(df_MD.x)*min(df_MD.x))*H)\n",
    "    zi_real = zi_r[np.invert(np.isnan(zi))]\n",
    "    avg_epwp = 2*area*sum(zi_real)/total_area\n",
    "    \n",
    "    return avg_epwp"
   ]
  },
  {
   "cell_type": "code",
   "execution_count": 5,
   "metadata": {},
   "outputs": [
    {
     "name": "stdout",
     "output_type": "stream",
     "text": [
      "-62.987160143223484\n"
     ]
    }
   ],
   "source": [
    "avg_epwp = get_avg_epwp(g_o.Phase_6,20,20,0.5,-11)\n",
    "print(avg_epwp)"
   ]
  },
  {
   "cell_type": "markdown",
   "metadata": {},
   "source": [
    "# Calculate the Avarege Excess Pore Water Pressure \n",
    "\n",
    "\n",
    "$$u_{avg} = \\frac{1}{V} \\iiint_V u(r,z)r\\cdot d\\theta dzdr = \\frac{1}{V} \\iint_V u(r,z) 2\\pi rdrdz =  \\frac{2\\pi}{V} \\iint_V u(r,z) rdrdz$$\n",
    "\n",
    "The discretization of the integration gives:\n",
    "\n",
    "$$ u_{avg} = \\frac{2}{ (R^2 - r_o^2)H} \\sum_i^m\\sum_j^n (u_{ij} r_j \\Delta r_{ij} \\Delta z_{ij})$$\n",
    "\n",
    "where n - number of discretization, R - radius of soil column and $r_o$ - radius of well\n",
    "\n",
    "As we are using regular mesh, $\\Delta z_{ij}$ and $\\Delta r_{ij}$ are constant, the discrete form of integration could be further simplified as:\n",
    "\n",
    "$$ u_{avg} = \\frac{2\\Delta r \\Delta z}{ (R^2 - r_o^2)H} \\sum_i^m\\sum_j^n u_{ij} r_j  = C \\sum_i^m\\sum_j^n u_{ij} r_j$$\n",
    "\n",
    "where $C$ is a constant once discretization is estabilished and $ C = \\frac{2\\Delta r \\Delta z}{ (R^2 - r_o^2)H}$\n",
    "\n",
    "In deriving the averge degree of consolidation, we will overlay a structured $m\\times n$ mesh on top of the the existing output from Plaxis. The nodal values will be calculated using interpolation. It's expected that as n gets larger, the calculated average u will converge to a constant."
   ]
  },
  {
   "cell_type": "code",
   "execution_count": null,
   "metadata": {},
   "outputs": [],
   "source": []
  }
 ],
 "metadata": {
  "kernelspec": {
   "display_name": "Python 3",
   "language": "python",
   "name": "python3"
  },
  "language_info": {
   "codemirror_mode": {
    "name": "ipython",
    "version": 3
   },
   "file_extension": ".py",
   "mimetype": "text/x-python",
   "name": "python",
   "nbconvert_exporter": "python",
   "pygments_lexer": "ipython3",
   "version": "3.6.5"
  }
 },
 "nbformat": 4,
 "nbformat_minor": 2
}
